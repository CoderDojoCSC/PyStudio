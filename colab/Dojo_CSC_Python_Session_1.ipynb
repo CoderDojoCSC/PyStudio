{
  "nbformat": 4,
  "nbformat_minor": 0,
  "metadata": {
    "colab": {
      "name": "Dojo-CSC-Python-Session-1.ipynb",
      "private_outputs": true,
      "provenance": [],
      "collapsed_sections": [],
      "authorship_tag": "ABX9TyPUo13kdkhfs1qDfFEKszgM",
      "include_colab_link": true
    },
    "kernelspec": {
      "name": "python3",
      "display_name": "Python 3"
    },
    "language_info": {
      "name": "python"
    }
  },
  "cells": [
    {
      "cell_type": "markdown",
      "metadata": {
        "id": "view-in-github",
        "colab_type": "text"
      },
      "source": [
        "<a href=\"https://colab.research.google.com/github/CoderDojoCSC/PyStudio/blob/main/colab/Dojo_CSC_Python_Session_1.ipynb\" target=\"_parent\"><img src=\"https://colab.research.google.com/assets/colab-badge.svg\" alt=\"Open In Colab\"/></a>"
      ]
    },
    {
      "cell_type": "markdown",
      "metadata": {
        "id": "aBbNWxANT1l8"
      },
      "source": [
        "# Curso de programación en Python (1ª Sesión)\n",
        "## CoderDojo 2021 - CSC Capuchinos"
      ]
    },
    {
      "cell_type": "markdown",
      "metadata": {
        "id": "3Zy73suDU7vF"
      },
      "source": [
        "# Introducción (2 minutos)\n",
        "\n",
        "**Jupiter Notebooks** es un *runtime* *web* que permite crear documentos combinando texto -markdown, html- y código -Python- para el análisis de datos.\n",
        "\n",
        "Existen servicios de varias empresas que ofrecen de forma gratuita y limitada este servicio en la web. En nuestro curso usamos el servicio de Google llamado Colab: https://colab.research.google.com/\n"
      ]
    },
    {
      "cell_type": "markdown",
      "metadata": {
        "id": "RE65TdTnC8iG"
      },
      "source": [
        "# Primer programa (5 minutos)"
      ]
    },
    {
      "cell_type": "markdown",
      "metadata": {
        "id": "vYnwVS5nY-K2"
      },
      "source": [
        "## Hello World!\n",
        "\n",
        "*Hello World!* es el primer programa que se utiliza como norma no escrita para empezar a programar en cualquier lenguaje.\n",
        "\n",
        "Este programa nos permite aprender los fundamentos para escribir y ejecutar nuestros programas en Python.\n",
        "\n",
        "Vamos aprender a hacerlo en dos entornos:\n",
        "- REPL\n",
        "- Command line\n",
        "- Editor visual: VSCode\n",
        "\n",
        "Además explicaremos los fundamentos para documentar el código que escribas."
      ]
    },
    {
      "cell_type": "code",
      "metadata": {
        "id": "uQLD4t9yAXuZ"
      },
      "source": [
        "# Hello World! Primer programa en Python.\n",
        "# Imprime 'Hello World!' en la consola.\n",
        "\n",
        "print(\"Hello World!\") # Imprime Hello World!"
      ],
      "execution_count": null,
      "outputs": []
    },
    {
      "cell_type": "markdown",
      "metadata": {
        "id": "CIwo1QLGDU9j"
      },
      "source": [
        "# Variables"
      ]
    },
    {
      "cell_type": "markdown",
      "metadata": {
        "id": "wPBT7agXApe0"
      },
      "source": [
        "## Introducción\n",
        "\n",
        "En *Python* una variable es creada cuando se **declara** y se le **asigna** un valor.\n",
        "\n",
        "`var='string value'`\n",
        "\n",
        "----------\n",
        "\n",
        "**Una variable nos permite almacenar un valor** en la memoria del ordenador para ser utilizado más tarde dentro de una parte de nuestro programa:\n",
        "\n",
        "----------\n",
        "\n",
        "Se componen de:\n",
        "- *Nombre*: Identificador de la variable.\n",
        "- *Tipo*: Clase de datos que almacenan (Strings, floats, numbers, booleans, colecciones...).\n",
        "- *Valor*: Contenido almacenado.\n",
        "\n",
        "----------\n",
        "\n",
        "A una variable se le pueden asignar:\n",
        "- literales y colecciones:  `var=12`\n",
        "- el valor de otras variables: `var2=var`\n",
        "- el resultado de una expresión: `var3 = var + var2`\n",
        "- el resultado de una función: `var = suma(2,2)`\n",
        "\n",
        "----------\n",
        "\n",
        "Los **nombres de las variables** siguen las siguientes reglas:\n",
        "- Comienzan por una letra o subrayado (underscore)\n",
        "- No pueden empezar por un número.\n",
        "- Sólo pueden contener valores alfanuméricos y subrayados `(A-z, 0-9, _)`\n",
        "- Son sensibles a mayúsculas y minúsculas: `Name` y `name` son variables diferents.\n",
        "- No pueden ser una palabra reservada.\n",
        "\n",
        "----------\n",
        "\n",
        "Lista de **palabras reservadas** en Python:\n",
        "\n",
        "```\n",
        "False      await      else       import     pass\n",
        "None       break      except     in         raise\n",
        "True       class      finally    is         return\n",
        "and        continue   for        lambda     try\n",
        "as         def        from       nonlocal   while\n",
        "assert     del        global     not        with\n",
        "async      elif       if         or         yield\n",
        "```\n"
      ]
    },
    {
      "cell_type": "code",
      "metadata": {
        "id": "DLC7cPSrBIij"
      },
      "source": [
        "# Crea una variable de texto y la imprime.\n",
        "\n",
        "cadena = \"¡Hola a todos!\"\n",
        "\n",
        "print(cadena)"
      ],
      "execution_count": null,
      "outputs": []
    },
    {
      "cell_type": "markdown",
      "metadata": {
        "id": "L55RRHnQCtpZ"
      },
      "source": [
        "**Ejercicio**. Crea una variable con tu nombre e imprímela. Llama a la variable `nombre`."
      ]
    },
    {
      "cell_type": "code",
      "metadata": {
        "id": "smODi-x7CZFt"
      },
      "source": [
        "# TO DO\n"
      ],
      "execution_count": null,
      "outputs": []
    },
    {
      "cell_type": "markdown",
      "metadata": {
        "id": "MhLuHB0cEQ6h"
      },
      "source": [
        "## Literales\n",
        "\n",
        "Los **literales** son valores constantes que se definen en el código. Estos pueden ser:\n",
        "- *Numéricos*:\n",
        "    - *Enteros* (**int**): Números sin parte decimal: `10`\n",
        "    - *Punto Flotante* (**float**): Números con parte decimal: `10.5`\n",
        "    - *Imaginarios*: Numeros imaginarios: `10i`\n",
        "- *Booleanos*: `True` o `False`\n",
        "- *Strings* (**str**): Secuencias alfanuméricas delimitadas por comillas: `\"Hola\"`\n",
        "\n",
        "Estos son todos valores escalares."
      ]
    },
    {
      "cell_type": "markdown",
      "metadata": {
        "id": "0KQm4OcSFyqH"
      },
      "source": [
        "**Ejercicio**. Crea una variable para cada tipo de dato e imprímela.\n",
        "\n",
        "**Ejemplo**. `numero = 1`:"
      ]
    },
    {
      "cell_type": "code",
      "metadata": {
        "id": "WPddq2wwF8tg"
      },
      "source": [
        "#TO DO"
      ],
      "execution_count": null,
      "outputs": []
    },
    {
      "cell_type": "markdown",
      "metadata": {
        "id": "SF7XVF9_HjkD"
      },
      "source": [
        "## Tipos de datos"
      ]
    },
    {
      "cell_type": "markdown",
      "metadata": {
        "id": "otlIbwdqH_E5"
      },
      "source": [
        "# Operaciones y expresiones"
      ]
    },
    {
      "cell_type": "markdown",
      "metadata": {
        "id": "PnjXGK56HzkU"
      },
      "source": [
        "## Operaciones aritméticas"
      ]
    },
    {
      "cell_type": "markdown",
      "metadata": {
        "id": "FbXwIcq9GjuR"
      },
      "source": [
        "El valor contenido por una variable puede ser asignado a otra mediante el operador de asignación `=`\n",
        "\n",
        "**Ejemplo**: `miVariable2 = miVariable1`"
      ]
    },
    {
      "cell_type": "code",
      "metadata": {
        "id": "aKXguIJLG8PR"
      },
      "source": [
        "#TO DO"
      ],
      "execution_count": null,
      "outputs": []
    },
    {
      "cell_type": "markdown",
      "metadata": {
        "id": "NAlujHC1HK51"
      },
      "source": [
        "**Ejercicio**. Crea una variable de tipo entero llamada `x`. Asigna el valor de `x` a una nueva variable llamada `y` e imprime ambas."
      ]
    },
    {
      "cell_type": "markdown",
      "metadata": {
        "id": "3GOnJo1FIeTm"
      },
      "source": [
        "## Operaciones de comparación"
      ]
    },
    {
      "cell_type": "markdown",
      "metadata": {
        "id": "HKE32wpcIhV9"
      },
      "source": [
        "## Operaciones lógicas"
      ]
    },
    {
      "cell_type": "markdown",
      "metadata": {
        "id": "0wlilzxvJZBh"
      },
      "source": [
        "# Sentencias condicionales"
      ]
    }
  ]
}